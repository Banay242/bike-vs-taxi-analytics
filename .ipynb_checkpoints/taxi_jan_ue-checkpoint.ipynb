{
 "cells": [
  {
   "cell_type": "code",
   "execution_count": 12,
   "id": "1f304459-a63d-4419-97c2-614581b9202b",
   "metadata": {},
   "outputs": [],
   "source": [
    "import pandas as pd\n",
    "from sqlalchemy import create_engine"
   ]
  },
  {
   "cell_type": "code",
   "execution_count": 13,
   "id": "757ba0c2-526b-4c64-826a-7de758efa5c8",
   "metadata": {},
   "outputs": [],
   "source": [
    "csv_file_path = (r'D:\\МИША\\MISHA\\UNIVERSITY\\БДпрактика\\yellow_tripdata_2016-01.csv')\n",
    "df = pd.read_csv(csv_file_path)"
   ]
  },
  {
   "cell_type": "code",
   "execution_count": 14,
   "id": "d1151556-25a2-41e3-8c24-48cc061e5898",
   "metadata": {},
   "outputs": [
    {
     "data": {
      "text/plain": [
       "<bound method NDFrame.head of           VendorID tpep_pickup_datetime tpep_dropoff_datetime  \\\n",
       "0                2  2016-01-01 00:00:00   2016-01-01 00:00:00   \n",
       "1                2  2016-01-01 00:00:00   2016-01-01 00:00:00   \n",
       "2                2  2016-01-01 00:00:00   2016-01-01 00:00:00   \n",
       "3                2  2016-01-01 00:00:00   2016-01-01 00:00:00   \n",
       "4                2  2016-01-01 00:00:00   2016-01-01 00:00:00   \n",
       "...            ...                  ...                   ...   \n",
       "10906853         2  2016-01-31 23:30:32   2016-01-31 23:38:18   \n",
       "10906854         1  2016-01-05 00:15:55   2016-01-05 00:16:06   \n",
       "10906855         1  2016-01-05 06:12:46   2016-03-19 20:45:50   \n",
       "10906856         1  2016-01-05 06:21:44   2016-03-28 12:54:26   \n",
       "10906857         1  2016-01-05 06:15:21   2016-01-05 06:15:36   \n",
       "\n",
       "          passenger_count  trip_distance  pickup_longitude  pickup_latitude  \\\n",
       "0                       2           1.10        -73.990372        40.734695   \n",
       "1                       5           4.90        -73.980782        40.729912   \n",
       "2                       1          10.54        -73.984550        40.679565   \n",
       "3                       1           4.75        -73.993469        40.718990   \n",
       "4                       3           1.76        -73.960625        40.781330   \n",
       "...                   ...            ...               ...              ...   \n",
       "10906853                1           2.20        -74.003578        40.751011   \n",
       "10906854                1           0.00        -73.945488        40.751530   \n",
       "10906855                3           1.40        -73.994240        40.766586   \n",
       "10906856                1           2.10        -73.948067        40.776531   \n",
       "10906857                3           0.00        -73.960938        40.758595   \n",
       "\n",
       "          RatecodeID store_and_fwd_flag  dropoff_longitude  dropoff_latitude  \\\n",
       "0                  1                  N         -73.981842         40.732407   \n",
       "1                  1                  N         -73.944473         40.716679   \n",
       "2                  1                  N         -73.950272         40.788925   \n",
       "3                  1                  N         -73.962242         40.657333   \n",
       "4                  1                  N         -73.977264         40.758514   \n",
       "...              ...                ...                ...               ...   \n",
       "10906853           1                  N         -73.982651         40.767509   \n",
       "10906854           1                  N         -73.945457         40.751530   \n",
       "10906855           1                  N         -73.984428         40.753922   \n",
       "10906856           1                  N         -73.978188         40.777435   \n",
       "10906857           2                  N         -73.961006         40.758583   \n",
       "\n",
       "          payment_type  fare_amount  extra  mta_tax  tip_amount  tolls_amount  \\\n",
       "0                    2          7.5    0.5      0.5        0.00          0.00   \n",
       "1                    1         18.0    0.5      0.5        0.00          0.00   \n",
       "2                    1         33.0    0.5      0.5        0.00          0.00   \n",
       "3                    2         16.5    0.0      0.5        0.00          0.00   \n",
       "4                    2          8.0    0.0      0.5        0.00          0.00   \n",
       "...                ...          ...    ...      ...         ...           ...   \n",
       "10906853             2          8.5    0.5      0.5        0.00          0.00   \n",
       "10906854             2          2.5    0.5      0.5        0.00          0.00   \n",
       "10906855             2          7.5    0.5      0.5        0.00          0.00   \n",
       "10906856             1         11.5    0.0      0.5        2.45          0.00   \n",
       "10906857             2         52.0    0.0      0.5        0.00          5.54   \n",
       "\n",
       "          improvement_surcharge  total_amount  \n",
       "0                           0.3          8.80  \n",
       "1                           0.3         19.30  \n",
       "2                           0.3         34.30  \n",
       "3                           0.3         17.30  \n",
       "4                           0.3          8.80  \n",
       "...                         ...           ...  \n",
       "10906853                    0.3          9.80  \n",
       "10906854                    0.3          3.80  \n",
       "10906855                    0.3          8.80  \n",
       "10906856                    0.3         14.75  \n",
       "10906857                    0.3         58.34  \n",
       "\n",
       "[10906858 rows x 19 columns]>"
      ]
     },
     "execution_count": 14,
     "metadata": {},
     "output_type": "execute_result"
    }
   ],
   "source": [
    "df.head"
   ]
  },
  {
   "cell_type": "code",
   "execution_count": 7,
   "id": "ad241068-28c2-4d42-9864-5467662daa80",
   "metadata": {},
   "outputs": [
    {
     "data": {
      "text/plain": [
       "VendorID                   int64\n",
       "tpep_pickup_datetime      object\n",
       "tpep_dropoff_datetime     object\n",
       "passenger_count            int64\n",
       "trip_distance            float64\n",
       "pickup_longitude         float64\n",
       "pickup_latitude          float64\n",
       "RatecodeID                 int64\n",
       "store_and_fwd_flag        object\n",
       "dropoff_longitude        float64\n",
       "dropoff_latitude         float64\n",
       "payment_type               int64\n",
       "fare_amount              float64\n",
       "extra                    float64\n",
       "mta_tax                  float64\n",
       "tip_amount               float64\n",
       "tolls_amount             float64\n",
       "improvement_surcharge    float64\n",
       "total_amount             float64\n",
       "dtype: object"
      ]
     },
     "execution_count": 7,
     "metadata": {},
     "output_type": "execute_result"
    }
   ],
   "source": [
    "df.dtypes"
   ]
  },
  {
   "cell_type": "code",
   "execution_count": 15,
   "id": "8033b470-ec4b-4b9c-8ea3-6e6ecea498f3",
   "metadata": {},
   "outputs": [],
   "source": [
    "df.dropna()\n",
    "df = df.drop_duplicates()"
   ]
  },
  {
   "cell_type": "code",
   "execution_count": 16,
   "id": "8d7b753a-f21a-49bc-84ce-01082e00cf22",
   "metadata": {},
   "outputs": [
    {
     "data": {
      "text/plain": [
       "<bound method NDFrame.head of           VendorID tpep_pickup_datetime tpep_dropoff_datetime  \\\n",
       "0                2  2016-01-01 00:00:00   2016-01-01 00:00:00   \n",
       "1                2  2016-01-01 00:00:00   2016-01-01 00:00:00   \n",
       "2                2  2016-01-01 00:00:00   2016-01-01 00:00:00   \n",
       "3                2  2016-01-01 00:00:00   2016-01-01 00:00:00   \n",
       "4                2  2016-01-01 00:00:00   2016-01-01 00:00:00   \n",
       "...            ...                  ...                   ...   \n",
       "10906853         2  2016-01-31 23:30:32   2016-01-31 23:38:18   \n",
       "10906854         1  2016-01-05 00:15:55   2016-01-05 00:16:06   \n",
       "10906855         1  2016-01-05 06:12:46   2016-03-19 20:45:50   \n",
       "10906856         1  2016-01-05 06:21:44   2016-03-28 12:54:26   \n",
       "10906857         1  2016-01-05 06:15:21   2016-01-05 06:15:36   \n",
       "\n",
       "          passenger_count  trip_distance  pickup_longitude  pickup_latitude  \\\n",
       "0                       2           1.10        -73.990372        40.734695   \n",
       "1                       5           4.90        -73.980782        40.729912   \n",
       "2                       1          10.54        -73.984550        40.679565   \n",
       "3                       1           4.75        -73.993469        40.718990   \n",
       "4                       3           1.76        -73.960625        40.781330   \n",
       "...                   ...            ...               ...              ...   \n",
       "10906853                1           2.20        -74.003578        40.751011   \n",
       "10906854                1           0.00        -73.945488        40.751530   \n",
       "10906855                3           1.40        -73.994240        40.766586   \n",
       "10906856                1           2.10        -73.948067        40.776531   \n",
       "10906857                3           0.00        -73.960938        40.758595   \n",
       "\n",
       "          RatecodeID store_and_fwd_flag  dropoff_longitude  dropoff_latitude  \\\n",
       "0                  1                  N         -73.981842         40.732407   \n",
       "1                  1                  N         -73.944473         40.716679   \n",
       "2                  1                  N         -73.950272         40.788925   \n",
       "3                  1                  N         -73.962242         40.657333   \n",
       "4                  1                  N         -73.977264         40.758514   \n",
       "...              ...                ...                ...               ...   \n",
       "10906853           1                  N         -73.982651         40.767509   \n",
       "10906854           1                  N         -73.945457         40.751530   \n",
       "10906855           1                  N         -73.984428         40.753922   \n",
       "10906856           1                  N         -73.978188         40.777435   \n",
       "10906857           2                  N         -73.961006         40.758583   \n",
       "\n",
       "          payment_type  fare_amount  extra  mta_tax  tip_amount  tolls_amount  \\\n",
       "0                    2          7.5    0.5      0.5        0.00          0.00   \n",
       "1                    1         18.0    0.5      0.5        0.00          0.00   \n",
       "2                    1         33.0    0.5      0.5        0.00          0.00   \n",
       "3                    2         16.5    0.0      0.5        0.00          0.00   \n",
       "4                    2          8.0    0.0      0.5        0.00          0.00   \n",
       "...                ...          ...    ...      ...         ...           ...   \n",
       "10906853             2          8.5    0.5      0.5        0.00          0.00   \n",
       "10906854             2          2.5    0.5      0.5        0.00          0.00   \n",
       "10906855             2          7.5    0.5      0.5        0.00          0.00   \n",
       "10906856             1         11.5    0.0      0.5        2.45          0.00   \n",
       "10906857             2         52.0    0.0      0.5        0.00          5.54   \n",
       "\n",
       "          improvement_surcharge  total_amount  \n",
       "0                           0.3          8.80  \n",
       "1                           0.3         19.30  \n",
       "2                           0.3         34.30  \n",
       "3                           0.3         17.30  \n",
       "4                           0.3          8.80  \n",
       "...                         ...           ...  \n",
       "10906853                    0.3          9.80  \n",
       "10906854                    0.3          3.80  \n",
       "10906855                    0.3          8.80  \n",
       "10906856                    0.3         14.75  \n",
       "10906857                    0.3         58.34  \n",
       "\n",
       "[10906857 rows x 19 columns]>"
      ]
     },
     "execution_count": 16,
     "metadata": {},
     "output_type": "execute_result"
    }
   ],
   "source": [
    "df.head\n"
   ]
  },
  {
   "cell_type": "code",
   "execution_count": 20,
   "id": "d104b8f8-aa44-40e8-8691-1526aa379b18",
   "metadata": {},
   "outputs": [],
   "source": [
    "df = df[df['tpep_dropoff_datetime'] - df['tpep_pickup_datetime'] < pd.Timedelta(minutes=180)].copy()\n",
    "df['tpep_pickup_datetime'] = pd.to_datetime(df['tpep_pickup_datetime'])\n",
    "df['tpep_dropoff_datetime'] = pd.to_datetime(df['tpep_dropoff_datetime'])"
   ]
  },
  {
   "cell_type": "code",
   "execution_count": 23,
   "id": "21cedda1-b040-4999-9fcc-2f0fe5ba2d52",
   "metadata": {},
   "outputs": [
    {
     "data": {
      "text/plain": [
       "VendorID                          int64\n",
       "tpep_pickup_datetime     datetime64[ns]\n",
       "tpep_dropoff_datetime    datetime64[ns]\n",
       "passenger_count                   int64\n",
       "trip_distance                   float64\n",
       "pickup_longitude                float64\n",
       "pickup_latitude                 float64\n",
       "RatecodeID                        int64\n",
       "store_and_fwd_flag               object\n",
       "dropoff_longitude               float64\n",
       "dropoff_latitude                float64\n",
       "payment_type                      int64\n",
       "fare_amount                     float64\n",
       "extra                           float64\n",
       "mta_tax                         float64\n",
       "tip_amount                      float64\n",
       "tolls_amount                    float64\n",
       "improvement_surcharge           float64\n",
       "total_amount                    float64\n",
       "dtype: object"
      ]
     },
     "execution_count": 23,
     "metadata": {},
     "output_type": "execute_result"
    }
   ],
   "source": [
    "df.dtypes"
   ]
  },
  {
   "cell_type": "code",
   "execution_count": 25,
   "id": "f0c0d7d5-7a6d-4b34-bcb3-69325e428340",
   "metadata": {},
   "outputs": [
    {
     "data": {
      "text/plain": [
       "<bound method NDFrame.head of           VendorID tpep_pickup_datetime tpep_dropoff_datetime  \\\n",
       "0                2  2016-01-01 00:00:00   2016-01-01 00:00:00   \n",
       "1                2  2016-01-01 00:00:00   2016-01-01 00:00:00   \n",
       "2                2  2016-01-01 00:00:00   2016-01-01 00:00:00   \n",
       "3                2  2016-01-01 00:00:00   2016-01-01 00:00:00   \n",
       "4                2  2016-01-01 00:00:00   2016-01-01 00:00:00   \n",
       "...            ...                  ...                   ...   \n",
       "10906851         2  2016-01-31 22:53:00   2016-01-31 22:59:37   \n",
       "10906852         2  2016-01-31 23:00:11   2016-01-31 23:12:08   \n",
       "10906853         2  2016-01-31 23:30:32   2016-01-31 23:38:18   \n",
       "10906854         1  2016-01-05 00:15:55   2016-01-05 00:16:06   \n",
       "10906857         1  2016-01-05 06:15:21   2016-01-05 06:15:36   \n",
       "\n",
       "          passenger_count  trip_distance  pickup_longitude  pickup_latitude  \\\n",
       "0                       2           1.10        -73.990372        40.734695   \n",
       "1                       5           4.90        -73.980782        40.729912   \n",
       "2                       1          10.54        -73.984550        40.679565   \n",
       "3                       1           4.75        -73.993469        40.718990   \n",
       "4                       3           1.76        -73.960625        40.781330   \n",
       "...                   ...            ...               ...              ...   \n",
       "10906851                1           1.68        -74.003578        40.750751   \n",
       "10906852                1           2.65        -74.002159        40.734852   \n",
       "10906853                1           2.20        -74.003578        40.751011   \n",
       "10906854                1           0.00        -73.945488        40.751530   \n",
       "10906857                3           0.00        -73.960938        40.758595   \n",
       "\n",
       "          RatecodeID store_and_fwd_flag  dropoff_longitude  dropoff_latitude  \\\n",
       "0                  1                  N         -73.981842         40.732407   \n",
       "1                  1                  N         -73.944473         40.716679   \n",
       "2                  1                  N         -73.950272         40.788925   \n",
       "3                  1                  N         -73.962242         40.657333   \n",
       "4                  1                  N         -73.977264         40.758514   \n",
       "...              ...                ...                ...               ...   \n",
       "10906851           1                  N         -74.002159         40.734909   \n",
       "10906852           1                  N         -73.999680         40.761669   \n",
       "10906853           1                  N         -73.982651         40.767509   \n",
       "10906854           1                  N         -73.945457         40.751530   \n",
       "10906857           2                  N         -73.961006         40.758583   \n",
       "\n",
       "          payment_type  fare_amount  extra  mta_tax  tip_amount  tolls_amount  \\\n",
       "0                    2          7.5    0.5      0.5         0.0          0.00   \n",
       "1                    1         18.0    0.5      0.5         0.0          0.00   \n",
       "2                    1         33.0    0.5      0.5         0.0          0.00   \n",
       "3                    2         16.5    0.0      0.5         0.0          0.00   \n",
       "4                    2          8.0    0.0      0.5         0.0          0.00   \n",
       "...                ...          ...    ...      ...         ...           ...   \n",
       "10906851             1          7.0    0.5      0.5         1.0          0.00   \n",
       "10906852             1         11.0    0.5      0.5         1.0          0.00   \n",
       "10906853             2          8.5    0.5      0.5         0.0          0.00   \n",
       "10906854             2          2.5    0.5      0.5         0.0          0.00   \n",
       "10906857             2         52.0    0.0      0.5         0.0          5.54   \n",
       "\n",
       "          improvement_surcharge  total_amount  \n",
       "0                           0.3          8.80  \n",
       "1                           0.3         19.30  \n",
       "2                           0.3         34.30  \n",
       "3                           0.3         17.30  \n",
       "4                           0.3          8.80  \n",
       "...                         ...           ...  \n",
       "10906851                    0.3          9.30  \n",
       "10906852                    0.3         13.30  \n",
       "10906853                    0.3          9.80  \n",
       "10906854                    0.3          3.80  \n",
       "10906857                    0.3         58.34  \n",
       "\n",
       "[10889938 rows x 19 columns]>"
      ]
     },
     "execution_count": 25,
     "metadata": {},
     "output_type": "execute_result"
    }
   ],
   "source": [
    "df.head\n"
   ]
  },
  {
   "cell_type": "code",
   "execution_count": 29,
   "id": "66994c6f-c272-4e66-b665-9dd8d45a32e1",
   "metadata": {},
   "outputs": [],
   "source": [
    "df = df[df['trip_distance']> 0] # чистим баги в системе + отмены\n",
    "df = df[df['total_amount'] > 0] # чистим баги\n",
    "duration = (df['tpep_dropoff_datetime'] - df['tpep_pickup_datetime']).dt.total_seconds() / 60 \n",
    "df = df[duration >= 1] # чистим поездки меньше минуты нах они вообще нужны\n",
    "df = df[df['trip_distance'] <= 100] # тут дистанцию подчищаем\n",
    "df = df[df['passenger_count'] > 0] # втф 0 пассажиров это как, хотя мб доставка....???\n",
    "#а сейчас почистми по координатам нью йорка\n",
    "df = df[\n",
    "    (df['pickup_longitude'].between(-74.25, -73.7)) &\n",
    "    (df['dropoff_longitude'].between(-74.25, -73.7)) &\n",
    "    (df['pickup_latitude'].between(40.5, 41.0)) &\n",
    "    (df['dropoff_latitude'].between(40.5, 41.0))\n",
    "]\n",
    "# почистили примерно 270к строк +-"
   ]
  },
  {
   "cell_type": "code",
   "execution_count": 30,
   "id": "397ecd44-cc0c-41cf-829f-d57473ae53b3",
   "metadata": {},
   "outputs": [
    {
     "data": {
      "text/plain": [
       "<bound method NDFrame.head of           VendorID tpep_pickup_datetime tpep_dropoff_datetime  \\\n",
       "5                2  2016-01-01 00:00:00   2016-01-01 00:18:30   \n",
       "6                2  2016-01-01 00:00:00   2016-01-01 00:26:45   \n",
       "7                1  2016-01-01 00:00:01   2016-01-01 00:11:55   \n",
       "8                1  2016-01-01 00:00:02   2016-01-01 00:11:14   \n",
       "9                2  2016-01-01 00:00:02   2016-01-01 00:11:08   \n",
       "...            ...                  ...                   ...   \n",
       "10906849         2  2016-01-31 21:28:59   2016-01-31 22:01:58   \n",
       "10906850         2  2016-01-31 22:36:41   2016-01-31 22:45:04   \n",
       "10906851         2  2016-01-31 22:53:00   2016-01-31 22:59:37   \n",
       "10906852         2  2016-01-31 23:00:11   2016-01-31 23:12:08   \n",
       "10906853         2  2016-01-31 23:30:32   2016-01-31 23:38:18   \n",
       "\n",
       "          passenger_count  trip_distance  pickup_longitude  pickup_latitude  \\\n",
       "5                       2           5.52        -73.980118        40.743050   \n",
       "6                       2           7.45        -73.994057        40.719990   \n",
       "7                       1           1.20        -73.979424        40.744614   \n",
       "8                       1           6.00        -73.947151        40.791046   \n",
       "9                       1           3.21        -73.998344        40.723896   \n",
       "...                   ...            ...               ...              ...   \n",
       "10906849                1           7.83        -74.002953        40.750481   \n",
       "10906850                1           2.50        -74.009277        40.717049   \n",
       "10906851                1           1.68        -74.003578        40.750751   \n",
       "10906852                1           2.65        -74.002159        40.734852   \n",
       "10906853                1           2.20        -74.003578        40.751011   \n",
       "\n",
       "          RatecodeID store_and_fwd_flag  dropoff_longitude  dropoff_latitude  \\\n",
       "5                  1                  N         -73.913490         40.763142   \n",
       "6                  1                  N         -73.966362         40.789871   \n",
       "7                  1                  N         -73.992035         40.753944   \n",
       "8                  1                  N         -73.920769         40.865578   \n",
       "9                  1                  N         -73.995850         40.688400   \n",
       "...              ...                ...                ...               ...   \n",
       "10906849           1                  N         -73.958153         40.656689   \n",
       "10906850           1                  N         -73.994637         40.750488   \n",
       "10906851           1                  N         -74.002159         40.734909   \n",
       "10906852           1                  N         -73.999680         40.761669   \n",
       "10906853           1                  N         -73.982651         40.767509   \n",
       "\n",
       "          payment_type  fare_amount  extra  mta_tax  tip_amount  tolls_amount  \\\n",
       "5                    2         19.0    0.5      0.5        0.00           0.0   \n",
       "6                    2         26.0    0.5      0.5        0.00           0.0   \n",
       "7                    2          9.0    0.5      0.5        0.00           0.0   \n",
       "8                    2         18.0    0.5      0.5        0.00           0.0   \n",
       "9                    2         11.5    0.5      0.5        0.00           0.0   \n",
       "...                ...          ...    ...      ...         ...           ...   \n",
       "10906849             1         29.0    0.5      0.5        5.00           0.0   \n",
       "10906850             1          9.5    0.5      0.5        2.16           0.0   \n",
       "10906851             1          7.0    0.5      0.5        1.00           0.0   \n",
       "10906852             1         11.0    0.5      0.5        1.00           0.0   \n",
       "10906853             2          8.5    0.5      0.5        0.00           0.0   \n",
       "\n",
       "          improvement_surcharge  total_amount  \n",
       "5                           0.3         20.30  \n",
       "6                           0.3         27.30  \n",
       "7                           0.3         10.30  \n",
       "8                           0.3         19.30  \n",
       "9                           0.3         12.80  \n",
       "...                         ...           ...  \n",
       "10906849                    0.3         35.30  \n",
       "10906850                    0.3         12.96  \n",
       "10906851                    0.3          9.30  \n",
       "10906852                    0.3         13.30  \n",
       "10906853                    0.3          9.80  \n",
       "\n",
       "[10622712 rows x 19 columns]>"
      ]
     },
     "execution_count": 30,
     "metadata": {},
     "output_type": "execute_result"
    }
   ],
   "source": [
    "df.head"
   ]
  },
  {
   "cell_type": "code",
   "execution_count": 32,
   "id": "a608316f-3013-4fb3-a356-90a8372789e3",
   "metadata": {},
   "outputs": [
    {
     "ename": "SyntaxError",
     "evalue": "unterminated string literal (detected at line 9) (3639263518.py, line 9)",
     "output_type": "error",
     "traceback": [
      "  \u001b[36mCell\u001b[39m\u001b[36m \u001b[39m\u001b[32mIn[32]\u001b[39m\u001b[32m, line 9\u001b[39m\n\u001b[31m    \u001b[39m\u001b[31mprint (\"ЗАЕБИСЬ!\u001b[39m\n           ^\n\u001b[31mSyntaxError\u001b[39m\u001b[31m:\u001b[39m unterminated string literal (detected at line 9)\n"
     ]
    }
   ],
   "source": [
    "user = \"pguser\"\n",
    "password = \"Pa$$w0rd\"\n",
    "host = \"vpngw.avalon.ru\"\n",
    "port=\"5432\"\n",
    "db=\"prifki\"\n",
    "engine = create_engine(f\"postgresql://{user}:{password}@{host}:{port}/{db}\")\n",
    "db.to_sql(\"taxi_trips_2016_jan\", engine, if_exists = \"replace\", index = False)\n",
    "\n",
    "print (\"ЗАЕБИСЬ!\")"
   ]
  },
  {
   "cell_type": "code",
   "execution_count": null,
   "id": "074a1d3c-c8e4-413c-85ef-5301fa18cdf1",
   "metadata": {},
   "outputs": [],
   "source": []
  }
 ],
 "metadata": {
  "kernelspec": {
   "display_name": "Python 3 (ipykernel)",
   "language": "python",
   "name": "python3"
  },
  "language_info": {
   "codemirror_mode": {
    "name": "ipython",
    "version": 3
   },
   "file_extension": ".py",
   "mimetype": "text/x-python",
   "name": "python",
   "nbconvert_exporter": "python",
   "pygments_lexer": "ipython3",
   "version": "3.13.2"
  }
 },
 "nbformat": 4,
 "nbformat_minor": 5
}
